{
  "cells": [
    {
      "cell_type": "markdown",
      "source": [
        "**Unstructured Data Analytics: Group Assignment #1**\n",
        "\n",
        "# Group Members:\n",
        "1. Rithu Anand Krishnan\n",
        "2. Manvi Mahajan\n",
        "3. Paul Wen (Yilin Wen)\n",
        "4. Alex Yu\n",
        "5. Judy Chen (Yu-Ting Chen)"
      ],
      "metadata": {
        "id": "5Yi5w2oLHzNm"
      }
    },
    {
      "cell_type": "code",
      "execution_count": null,
      "metadata": {
        "id": "z1NDz1TjrXFv"
      },
      "outputs": [],
      "source": [
        "## Imports\n",
        "import pandas as pd\n",
        "import numpy as np\n",
        "from bs4 import BeautifulSoup as bs\n",
        "from tqdm import tqdm\n",
        "from nltk.corpus import stopwords\n",
        "from nltk.tokenize import word_tokenize\n",
        "from nltk.probability import FreqDist\n",
        "from nltk import pos_tag, word_tokenize\n",
        "import matplotlib.pyplot as p\n",
        "from statistics import mean\n",
        "from sklearn.manifold import MDS\n",
        "import sklearn.datasets as dt\n",
        "import seaborn as sns\n",
        "from nltk import pos_tag\n",
        "from sklearn.metrics.pairwise import manhattan_distances, euclidean_distances\n",
        "from matplotlib.offsetbox import OffsetImage, AnnotationBbox\n",
        "from sklearn.linear_model import LinearRegression\n",
        "import os\n",
        "import re\n",
        "import nltk\n",
        "import requests\n",
        "import csv\n",
        "import matplotlib\n",
        "import matplotlib.pyplot as plt\n",
        "import string\n",
        "import math\n",
        "nltk.download('all')"
      ]
    },
    {
      "cell_type": "markdown",
      "metadata": {
        "id": "2zZp2e4prXFr"
      },
      "source": [
        "# Web Scraper\n",
        "\n",
        "Code to Scrape the forum website."
      ]
    },
    {
      "cell_type": "code",
      "execution_count": null,
      "metadata": {
        "id": "WL-x9r9XrXFu"
      },
      "outputs": [],
      "source": [
        "# We are scrapping 102 pages to get 5051 posts/comments\n",
        "page = 1\n",
        "comments = []\n",
        "timevar = []\n",
        "while page != 102:\n",
        "      url = f\"https://forums.edmunds.com/discussion/2864/general/x/entry-level-luxury-performance-sedans/p{page}\"\n",
        "      #print(url)\n",
        "      response = requests.get(url)\n",
        "      html = response.content\n",
        "      soup = bs(html, \"lxml\")\n",
        "      for h3 in soup.find_all(\"div\", {\"class\": \"Message userContent\"}):\n",
        "            comments.append(h3.get_text(strip=True))\n",
        "      for i in soup.findAll('time'):\n",
        "        if i.has_attr('title'):\n",
        "            timevar.append(i['title'])\n",
        "      page = page + 1\n",
        "data_tuples = list(zip(timevar,comments))\n",
        "#print(data_tuples)\n",
        "df=pd.DataFrame(data_tuples, columns=['Time','Comments'])\n",
        "df.to_csv('scrape.csv')\n"
      ]
    },
    {
      "cell_type": "markdown",
      "metadata": {
        "id": "JPcZEDU1rXFw"
      },
      "source": [
        "## Task A: \n",
        "\n",
        "Once you fetch the data, test if the data support Zipf’s law econometrically. Also plot the most common 100 words in the data against the theoretical prediction of the law. For this question, do not remove stopwords. Also do not perform stemming or lemmatization. "
      ]
    },
    {
      "cell_type": "code",
      "execution_count": null,
      "metadata": {
        "id": "FAfftdJKrXFx",
        "colab": {
          "base_uri": "https://localhost:8080/"
        },
        "outputId": "73050637-a505-4d73-9486-f5615b22b767"
      },
      "outputs": [
        {
          "output_type": "stream",
          "name": "stderr",
          "text": [
            "/usr/local/lib/python3.7/dist-packages/ipykernel_launcher.py:3: FutureWarning: The default value of regex will change from True to False in a future version.\n",
            "  This is separate from the ipykernel package so we can avoid doing imports until\n"
          ]
        }
      ],
      "source": [
        "#Created comments dataframe from scarped information and performing basic cleaning like removing punctuations\n",
        "comments = pd.read_csv(\"scrape.csv\", names=[\"id\", \"time\", \"comments\"])\n",
        "comments['comments'] = comments['comments'].str.replace('[{}]'.format(string.punctuation), '')\n",
        "\n",
        "#Check if any comments row have NaN values, if yes then remove them\n",
        "#comments[comments.isnull().any(axis=1)].head()\n",
        "clean_comments = comments.dropna(how='any')\n",
        "\n",
        "all_words = clean_comments[\"comments\"].sum()\n",
        "words = nltk.tokenize.word_tokenize(all_words)\n",
        "#Finding the frequency of all words including stopwords\n",
        "fdist = FreqDist(words)\n",
        "\n",
        "word_freq_df = pd.DataFrame(fdist.items(), columns=['word', 'frequency'])"
      ]
    },
    {
      "cell_type": "code",
      "source": [
        "from google.colab import drive\n",
        "drive.mount('/content/drive')"
      ],
      "metadata": {
        "colab": {
          "base_uri": "https://localhost:8080/"
        },
        "id": "MfvzGohWnpCJ",
        "outputId": "08aeb6ad-b991-42e8-8ad2-c2116f06fc70"
      },
      "execution_count": null,
      "outputs": [
        {
          "output_type": "stream",
          "name": "stdout",
          "text": [
            "Mounted at /content/drive\n"
          ]
        }
      ]
    },
    {
      "cell_type": "code",
      "execution_count": null,
      "metadata": {
        "id": "dF7H6IqlrXFy",
        "colab": {
          "base_uri": "https://localhost:8080/",
          "height": 962
        },
        "outputId": "81204c25-dfae-47dd-d055-1bf7b094af0a"
      },
      "outputs": [
        {
          "output_type": "stream",
          "name": "stdout",
          "text": [
            "      rank    word  frequency  zipf_value  log_rank   log_freq       xreg\n",
            "30       1     the      24136   17.000000  0.000000  10.091460 -10.934891\n",
            "6        2       a      11672    8.500000  0.693147   9.364948 -10.241744\n",
            "12       3     and       9985    5.666667  1.098612   9.208839  -9.836279\n",
            "21       4      to       9682    4.250000  1.386294   9.178024  -9.548597\n",
            "215      5       I       8005    3.400000  1.609438   8.987822  -9.325453\n",
            "...    ...     ...        ...         ...       ...        ...        ...\n",
            "150     96    also        570    0.177083  4.564348   6.345636  -6.370543\n",
            "24      97    well        568    0.175258  4.574711   6.342121  -6.360180\n",
            "485     98     RWD        567    0.173469  4.584967   6.340359  -6.349924\n",
            "271     99  engine        567    0.171717  4.595120   6.340359  -6.339771\n",
            "1067   100      we        561    0.170000  4.605170   6.329721  -6.329721\n",
            "\n",
            "[100 rows x 7 columns]\n"
          ]
        },
        {
          "output_type": "display_data",
          "data": {
            "text/plain": [
              "<Figure size 432x288 with 1 Axes>"
            ],
            "image/png": "[encoded data removed]"
          },
          "metadata": {
            "needs_background": "light"
          }
        },
        {
          "output_type": "stream",
          "name": "stdout",
          "text": [
            "                                 OLS Regression Results                                \n",
            "=======================================================================================\n",
            "Dep. Variable:                      y   R-squared (uncentered):                   1.000\n",
            "Model:                            OLS   Adj. R-squared (uncentered):              1.000\n",
            "Method:                 Least Squares   F-statistic:                          2.446e+05\n",
            "Date:                Wed, 12 Oct 2022   Prob (F-statistic):                   8.98e-170\n",
            "Time:                        23:55:13   Log-Likelihood:                          50.230\n",
            "No. Observations:                 100   AIC:                                     -98.46\n",
            "Df Residuals:                      99   BIC:                                     -95.86\n",
            "Df Model:                           1                                                  \n",
            "Covariance Type:            nonrobust                                                  \n",
            "==============================================================================\n",
            "                 coef    std err          t      P>|t|      [0.025      0.975]\n",
            "------------------------------------------------------------------------------\n",
            "x1            -0.9894      0.002   -494.532      0.000      -0.993      -0.985\n",
            "==============================================================================\n",
            "Omnibus:                      100.632   Durbin-Watson:                   0.105\n",
            "Prob(Omnibus):                  0.000   Jarque-Bera (JB):             1041.995\n",
            "Skew:                          -3.411   Prob(JB):                    5.42e-227\n",
            "Kurtosis:                      17.267   Cond. No.                         1.00\n",
            "==============================================================================\n",
            "\n",
            "Notes:\n",
            "[1] R² is computed without centering (uncentered) since the model does not contain a constant.\n",
            "[2] Standard Errors assume that the covariance matrix of the errors is correctly specified.\n"
          ]
        }
      ],
      "source": [
        "#Calculation the Zipfs value for each word, running linear regression model and plotting the final results. \n",
        "import statsmodels.api as sm\n",
        "\n",
        "pos = np.arange(100)\n",
        "s = 1\n",
        "expected_zipf = [word_freq_df.sort_values(by='frequency', ascending=False)['frequency'][0]/(i+1)**s for i in pos]\n",
        "\n",
        "final_zipf_df = word_freq_df.sort_values(by='frequency', ascending=False).iloc[:100]\n",
        "final_zipf_df['zipf_value'] = expected_zipf\n",
        "\n",
        "final_zipf_df.insert(0, 'rank', range(1, len(final_zipf_df) + 1))\n",
        "final_zipf_df[\"log_rank\"] = final_zipf_df[\"rank\"].map(lambda x: math.log(x))\n",
        "final_zipf_df[\"log_freq\"] = final_zipf_df[\"frequency\"].map(lambda x: math.log(x))\n",
        "\n",
        "eco_denominator = final_zipf_df.loc[final_zipf_df[\"frequency\"].idxmin(), \"frequency\"] * final_zipf_df.shape[0]\n",
        "final_zipf_df[\"xreg\"] = final_zipf_df[\"rank\"].map(lambda x: math.log(x/eco_denominator))\n",
        "\n",
        "#Printing the contents of zipf dataframe\n",
        "print(final_zipf_df)\n",
        "\n",
        "X = final_zipf_df.loc[:, \"xreg\"].values.reshape(-1,1)\n",
        "Y = final_zipf_df.loc[:, \"log_freq\"].values.reshape(-1,1)\n",
        "\n",
        "result = sm.OLS(Y, X).fit()\n",
        "Y_pred = result.predict(X)\n",
        "plt.scatter(X, Y)\n",
        "plt.plot(X, Y_pred, color=\"green\")\n",
        "plt.show()\n",
        "print(result.summary())"
      ]
    },
    {
      "cell_type": "code",
      "source": [
        "# From the summary we know that\n",
        "# theta = -0.9894\n",
        "# std err = 0.002\n",
        "t = (-0.9894 + 1)/0.002\n",
        "t"
      ],
      "metadata": {
        "colab": {
          "base_uri": "https://localhost:8080/"
        },
        "id": "0VtiH_ebz1Dl",
        "outputId": "44982af0-7db1-466b-83a4-59a34cf08f36"
      },
      "execution_count": null,
      "outputs": [
        {
          "output_type": "execute_result",
          "data": {
            "text/plain": [
              "5.3000000000000265"
            ]
          },
          "metadata": {},
          "execution_count": 6
        }
      ]
    },
    {
      "cell_type": "markdown",
      "source": [
        "As we can see the Theta value is \"-0.9894\" because we have picked the top 100 most frequent words, -0.98 is very close to -1. Our t value is 5.3 from the calculations above and after referring to the t table online , we can prove that our value of t is significant for 99 degrees of freedom."
      ],
      "metadata": {
        "id": "DXe9lq_36Sjm"
      }
    },
    {
      "cell_type": "markdown",
      "metadata": {
        "id": "VH5w-nxyrXFz"
      },
      "source": [
        "# Task B\n",
        "Find the top 10 brands from frequency counts. You will need to write a script to count the frequencies of words (stopwords should NOT be counted). Replace frequently occurring car models with brands so that from now on you have to deal with only brands and not models. You will need another script for this job. A list of model and brand names (not exhaustive) are provided in a separate file.   "
      ]
    },
    {
      "cell_type": "code",
      "execution_count": null,
      "metadata": {
        "id": "PLn-aEUirXFw"
      },
      "outputs": [],
      "source": [
        "# RUN ME if you'd like to be able to output more than one variable value without using a print statement.\n",
        "from IPython.core.interactiveshell import InteractiveShell\n",
        "from IPython.core.debugger import set_trace\n",
        "InteractiveShell.ast_node_interactivity = \"all\""
      ]
    },
    {
      "cell_type": "code",
      "execution_count": null,
      "metadata": {
        "id": "ePkRKzTQrXFv",
        "colab": {
          "base_uri": "https://localhost:8080/"
        },
        "outputId": "e9fee9cf-9c3e-45c8-c19f-718a3f10096f"
      },
      "outputs": [
        {
          "output_type": "stream",
          "name": "stderr",
          "text": [
            "4987it [00:00, 5261.14it/s]\n",
            "100%|██████████| 318744/318744 [00:48<00:00, 6534.46it/s]\n",
            "100%|██████████| 209004/209004 [00:01<00:00, 206977.55it/s]\n"
          ]
        }
      ],
      "source": [
        "#saving the comment with stopwords in to a new dataframe.\n",
        "sentence_with_stopwords = clean_comments['comments']\n",
        "\n",
        "#sepearating by word and removing stop words\n",
        "current_directory = os.getcwd()\n",
        "\n",
        "if not os.path.isfile(current_directory + '/words_stop.csv') or not os.path.isfile(current_directory + '/words_no_stop.csv'):\n",
        "    with_stop_words = []\n",
        "    for idx, sentence in tqdm(sentence_with_stopwords.items()): ## items() to get the key value pairs index and sentences\n",
        "        for word in list(set(sentence.split())):  ## set to get one word only once from a single comment\n",
        "            word = re.sub(r'\\W+', '', word) # removes all special characters\n",
        "            with_stop_words.append(word.strip().lower()) # lower # strip removes any leading or trailing space character by default\n",
        "           \n",
        "    no_stop_words = []\n",
        "    for word in tqdm(with_stop_words):\n",
        "        if word.lower() not in stopwords.words('english'):\n",
        "            no_stop_words.append(word.lower()) \n",
        "            \n",
        "    words_withoutstopwords = pd.Series(no_stop_words)\n",
        "    words_withstopwords = pd.Series(with_stop_words)\n",
        "    \n",
        "    s_words_tok = []\n",
        "    for word in tqdm(words_withoutstopwords):\n",
        "      tokenizer = nltk.RegexpTokenizer(r\"\\w+\")\n",
        "      try:\n",
        "        new_word = tokenizer.tokenize(word)\n",
        "        s_words_tok.append(new_word[0])\n",
        "      except IndexError:\n",
        "        pass\n",
        "    \n",
        "    words_withoutstopwords = pd.Series(s_words_tok)\n",
        "    words_withstopwords.to_csv('words_stop.csv', index=False)\n",
        "    words_withoutstopwords.to_csv('words_no_stop.csv', index=False)\n",
        "else:\n",
        "    print('Words have already been processed, loading now...')\n",
        "    words_withstopwords = pd.read_csv('words_stop.csv')['0']\n",
        "    words_withoutstopwords = pd.read_csv('words_no_stop.csv')['0']"
      ]
    },
    {
      "cell_type": "code",
      "execution_count": null,
      "metadata": {
        "id": "1ed6_SCbrXFz",
        "colab": {
          "base_uri": "https://localhost:8080/"
        },
        "outputId": "b076ca83-5586-4603-b705-7355dd62bd05"
      },
      "outputs": [
        {
          "output_type": "stream",
          "name": "stdout",
          "text": [
            "The word with the highest frequency is \"car\": 1977\n"
          ]
        }
      ],
      "source": [
        "top_word = words_withoutstopwords.value_counts().index.to_list()[0]\n",
        "top_frequency = words_withoutstopwords.value_counts().iloc[0]\n",
        "print('The word with the highest frequency is \"%s\": %d'%(top_word, top_frequency))"
      ]
    },
    {
      "cell_type": "code",
      "execution_count": null,
      "metadata": {
        "id": "kSK9sZpnrXF0"
      },
      "outputs": [],
      "source": [
        "#Replacing card model names with actual card brand names\n",
        "car_models = pd.read_csv('car models and brands.csv')\n",
        "model_list = car_models['Model'].to_list()\n",
        "\n",
        "#check if word is in card_model array and changes it the brand\n",
        "def brand_changer(words):\n",
        "    newlist = []\n",
        "    for word in words:\n",
        "        if word in model_list:\n",
        "          #if word in model array change it to the corresponding brand\n",
        "            newlist.append(car_models[car_models['Model']==word]['Brand'].values[0])\n",
        "        else:\n",
        "            newlist.append(word)\n",
        "            \n",
        "    return newlist\n",
        "\n",
        "#make brand into dictionary with initial value as 0\n",
        "brands = list(car_models['Brand'].unique())\n",
        "\n",
        "## Removing some noise from the data\n",
        "for i in ['car','problem','sedan','seat']:\n",
        "  brands.remove(i)\n",
        "\n",
        "#counts frequency of each brand, returns array of tupples with top 10 brands: [(brand, frequency),(brand,frequncy),...etc]\n",
        "def brand_freq(words):\n",
        "    brand_count = dict.fromkeys(brands, 0)\n",
        "    \n",
        "    for word in words:\n",
        "        if word in list(brand_count.keys()):\n",
        "            brand_count[word] +=1\n",
        "    \n",
        "    return sorted(brand_count.items(),  key=lambda x: x[1], reverse=True)[:11]\n",
        "\n",
        "words_brand_filtered = pd.Series(brand_changer(words_withoutstopwords.to_list()))\n",
        "sorted_brand_freq = pd.Series(brand_freq(words_brand_filtered.to_list()))"
      ]
    },
    {
      "cell_type": "code",
      "execution_count": null,
      "metadata": {
        "id": "ANb-LuvXrXF0",
        "colab": {
          "base_uri": "https://localhost:8080/"
        },
        "outputId": "9438f6ad-cef8-4bd2-8ebf-2e7543718d56"
      },
      "outputs": [
        {
          "output_type": "stream",
          "name": "stdout",
          "text": [
            "List of most 10 most frequent brands are\n"
          ]
        },
        {
          "output_type": "execute_result",
          "data": {
            "text/plain": [
              "0           (bmw, 1631)\n",
              "1          (acura, 610)\n",
              "2           (audi, 571)\n",
              "3          (honda, 502)\n",
              "4       (infiniti, 379)\n",
              "5         (nissan, 379)\n",
              "6         (toyota, 334)\n",
              "7         (subaru, 269)\n",
              "8     (volkswagen, 228)\n",
              "9           (ford, 158)\n",
              "10         (volvo, 141)\n",
              "dtype: object"
            ]
          },
          "metadata": {},
          "execution_count": 12
        }
      ],
      "source": [
        "sorted_brand_freq.to_csv('brand_freq.csv', index=False)\n",
        "print(\"List of most 10 most frequent brands are\")\n",
        "sorted_brand_freq"
      ]
    },
    {
      "cell_type": "markdown",
      "metadata": {
        "id": "_ieTRsOCrXF0"
      },
      "source": [
        "# Task C\n",
        "Calculate lift ratios for associations between the top-10 brands identified in Task A. You will have to write a script to do this task). For lift calculations, be sure not to count a mention more than once per post, even if it is mentioned multiple times in the post."
      ]
    },
    {
      "cell_type": "code",
      "execution_count": null,
      "metadata": {
        "id": "hfc4R-FGrXF0"
      },
      "outputs": [],
      "source": [
        "#takes out top 10 brands from tuple in sorted brand freq\n",
        "brands = [ item[0] for item in sorted_brand_freq]\n",
        "\n",
        "# finds lift between two entities\n",
        "def lift(A, B, messages):\n",
        "    A=A.lower()\n",
        "    B=B.lower()\n",
        "    A_count = 0\n",
        "    B_count = 0\n",
        "    AB_count = 0\n",
        "    n=len(messages)\n",
        "    for message in messages:\n",
        "      message=message.lower()\n",
        "      if A in message:\n",
        "        A_count+=1\n",
        "      if B in message:\n",
        "        B_count+=1\n",
        "      if A in message and B in message:\n",
        "        AB_count+=1\n",
        "    lift_val= (n*AB_count)/(A_count*B_count)\n",
        "    if A == B:\n",
        "      return 1\n",
        "    else:\n",
        "      return round(lift_val,4)\n",
        "\n",
        "# utilizes lift function above and runs agaainst all the brands in the brand list. \n",
        "# Returns dataframe of lift values with useless values removed\n",
        "def lift_everything(brands,messages):\n",
        "  results=[]\n",
        "  counter=0\n",
        "  for b in brands:\n",
        "    results.append([])\n",
        "    for f in brands:\n",
        "      k=lift(b,f,messages)\n",
        "      results[counter].append(k)\n",
        "    counter+=1\n",
        "  import numpy as np\n",
        "  triangle = np.triu (results)\n",
        "  import pandas as pd\n",
        "  return pd.DataFrame(triangle, columns=[brands], index=[brands])"
      ]
    },
    {
      "cell_type": "code",
      "execution_count": null,
      "metadata": {
        "id": "ROO5Mi16rXF0",
        "colab": {
          "base_uri": "https://localhost:8080/"
        },
        "outputId": "bebed5c8-30ec-4b5d-8f7d-4e44e89eff4b"
      },
      "outputs": [
        {
          "output_type": "stream",
          "name": "stderr",
          "text": [
            "100%|██████████| 4987/4987 [00:08<00:00, 556.87it/s]\n"
          ]
        }
      ],
      "source": [
        "#made array with all the messsages with brand \n",
        "messages_with_brands = []\n",
        "for message in tqdm(sentence_with_stopwords):\n",
        "  tokenizer = nltk.RegexpTokenizer(r\"\\w+\")\n",
        "  message_tok = tokenizer.tokenize(message)\n",
        "  words = \" \".join(message_tok).lower().split()\n",
        "  messages_with_brands.append(\" \".join(brand_changer(words)))"
      ]
    },
    {
      "cell_type": "code",
      "execution_count": null,
      "metadata": {
        "id": "K-OcdDmOrXF0",
        "colab": {
          "base_uri": "https://localhost:8080/",
          "height": 394
        },
        "outputId": "9f536b16-21aa-46eb-b22c-edef57acfba0"
      },
      "outputs": [
        {
          "output_type": "execute_result",
          "data": {
            "text/plain": [
              "               bmw   acura    audi   honda infiniti  nissan  toyota  subaru  \\\n",
              "bmw         1.0000  1.5674  1.7931  1.2278   2.0549  1.2399  1.4161  1.1969   \n",
              "acura       1.5674  1.0000  2.0910  2.7287   3.0591  2.2153  1.8066  2.0618   \n",
              "audi        1.7931  2.0910  1.0000  1.2702   2.5262  1.3756  1.1424  1.8478   \n",
              "honda       1.2278  2.7287  1.2702  1.0000   1.6168  4.0245  4.0897  1.5716   \n",
              "infiniti    2.0549  3.0591  2.5262  1.6168   1.0000  2.9827  1.2247  1.7757   \n",
              "nissan      1.2399  2.2153  1.3756  4.0245   2.9827  1.0000  4.0740  1.6023   \n",
              "toyota      1.4161  1.8066  1.1424  4.0897   1.2247  4.0740  1.0000  1.4593   \n",
              "subaru      1.1969  2.0618  1.8478  1.5716   1.7757  1.6023  1.4593  1.0000   \n",
              "volkswagen  1.5152  1.8302  4.2529  2.5015   2.0895  2.6878  2.3324  2.4899   \n",
              "ford        1.5193  1.6380  1.7349  2.2897   1.7193  1.7193  2.0912  1.7219   \n",
              "volvo       1.5967  3.2192  4.0942  2.2815   2.6698  3.5562  2.4250  4.5417   \n",
              "\n",
              "           volkswagen    ford   volvo  \n",
              "bmw            1.5152  1.5193  1.5967  \n",
              "acura          1.8302  1.6380  3.2192  \n",
              "audi           4.2529  1.7349  4.0942  \n",
              "honda          2.5015  2.2897  2.2815  \n",
              "infiniti       2.0895  1.7193  2.6698  \n",
              "nissan         2.6878  1.7193  3.5562  \n",
              "toyota         2.3324  2.0912  2.4250  \n",
              "subaru         2.4899  1.7219  4.5417  \n",
              "volkswagen     1.0000  2.2146  3.1525  \n",
              "ford           2.2146  1.0000  3.6549  \n",
              "volvo          3.1525  3.6549  1.0000  "
            ],
            "text/html": [
              "\n",
              "  <div id=\"df-73bad387-53e0-4beb-ac22-64cf6f40e1b2\">\n",
              "    <div class=\"colab-df-container\">\n",
              "      <div>\n",
              "<style scoped>\n",
              "    .dataframe tbody tr th:only-of-type {\n",
              "        vertical-align: middle;\n",
              "    }\n",
              "\n",
              "    .dataframe tbody tr th {\n",
              "        vertical-align: top;\n",
              "    }\n",
              "\n",
              "    .dataframe thead tr th {\n",
              "        text-align: left;\n",
              "    }\n",
              "</style>\n",
              "<table border=\"1\" class=\"dataframe\">\n",
              "  <thead>\n",
              "    <tr>\n",
              "      <th></th>\n",
              "      <th>bmw</th>\n",
              "      <th>acura</th>\n",
              "      <th>audi</th>\n",
              "      <th>honda</th>\n",
              "      <th>infiniti</th>\n",
              "      <th>nissan</th>\n",
              "      <th>toyota</th>\n",
              "      <th>subaru</th>\n",
              "      <th>volkswagen</th>\n",
              "      <th>ford</th>\n",
              "      <th>volvo</th>\n",
              "    </tr>\n",
              "  </thead>\n",
              "  <tbody>\n",
              "    <tr>\n",
              "      <th>bmw</th>\n",
              "      <td>1.0000</td>\n",
              "      <td>1.5674</td>\n",
              "      <td>1.7931</td>\n",
              "      <td>1.2278</td>\n",
              "      <td>2.0549</td>\n",
              "      <td>1.2399</td>\n",
              "      <td>1.4161</td>\n",
              "      <td>1.1969</td>\n",
              "      <td>1.5152</td>\n",
              "      <td>1.5193</td>\n",
              "      <td>1.5967</td>\n",
              "    </tr>\n",
              "    <tr>\n",
              "      <th>acura</th>\n",
              "      <td>1.5674</td>\n",
              "      <td>1.0000</td>\n",
              "      <td>2.0910</td>\n",
              "      <td>2.7287</td>\n",
              "      <td>3.0591</td>\n",
              "      <td>2.2153</td>\n",
              "      <td>1.8066</td>\n",
              "      <td>2.0618</td>\n",
              "      <td>1.8302</td>\n",
              "      <td>1.6380</td>\n",
              "      <td>3.2192</td>\n",
              "    </tr>\n",
              "    <tr>\n",
              "      <th>audi</th>\n",
              "      <td>1.7931</td>\n",
              "      <td>2.0910</td>\n",
              "      <td>1.0000</td>\n",
              "      <td>1.2702</td>\n",
              "      <td>2.5262</td>\n",
              "      <td>1.3756</td>\n",
              "      <td>1.1424</td>\n",
              "      <td>1.8478</td>\n",
              "      <td>4.2529</td>\n",
              "      <td>1.7349</td>\n",
              "      <td>4.0942</td>\n",
              "    </tr>\n",
              "    <tr>\n",
              "      <th>honda</th>\n",
              "      <td>1.2278</td>\n",
              "      <td>2.7287</td>\n",
              "      <td>1.2702</td>\n",
              "      <td>1.0000</td>\n",
              "      <td>1.6168</td>\n",
              "      <td>4.0245</td>\n",
              "      <td>4.0897</td>\n",
              "      <td>1.5716</td>\n",
              "      <td>2.5015</td>\n",
              "      <td>2.2897</td>\n",
              "      <td>2.2815</td>\n",
              "    </tr>\n",
              "    <tr>\n",
              "      <th>infiniti</th>\n",
              "      <td>2.0549</td>\n",
              "      <td>3.0591</td>\n",
              "      <td>2.5262</td>\n",
              "      <td>1.6168</td>\n",
              "      <td>1.0000</td>\n",
              "      <td>2.9827</td>\n",
              "      <td>1.2247</td>\n",
              "      <td>1.7757</td>\n",
              "      <td>2.0895</td>\n",
              "      <td>1.7193</td>\n",
              "      <td>2.6698</td>\n",
              "    </tr>\n",
              "    <tr>\n",
              "      <th>nissan</th>\n",
              "      <td>1.2399</td>\n",
              "      <td>2.2153</td>\n",
              "      <td>1.3756</td>\n",
              "      <td>4.0245</td>\n",
              "      <td>2.9827</td>\n",
              "      <td>1.0000</td>\n",
              "      <td>4.0740</td>\n",
              "      <td>1.6023</td>\n",
              "      <td>2.6878</td>\n",
              "      <td>1.7193</td>\n",
              "      <td>3.5562</td>\n",
              "    </tr>\n",
              "    <tr>\n",
              "      <th>toyota</th>\n",
              "      <td>1.4161</td>\n",
              "      <td>1.8066</td>\n",
              "      <td>1.1424</td>\n",
              "      <td>4.0897</td>\n",
              "      <td>1.2247</td>\n",
              "      <td>4.0740</td>\n",
              "      <td>1.0000</td>\n",
              "      <td>1.4593</td>\n",
              "      <td>2.3324</td>\n",
              "      <td>2.0912</td>\n",
              "      <td>2.4250</td>\n",
              "    </tr>\n",
              "    <tr>\n",
              "      <th>subaru</th>\n",
              "      <td>1.1969</td>\n",
              "      <td>2.0618</td>\n",
              "      <td>1.8478</td>\n",
              "      <td>1.5716</td>\n",
              "      <td>1.7757</td>\n",
              "      <td>1.6023</td>\n",
              "      <td>1.4593</td>\n",
              "      <td>1.0000</td>\n",
              "      <td>2.4899</td>\n",
              "      <td>1.7219</td>\n",
              "      <td>4.5417</td>\n",
              "    </tr>\n",
              "    <tr>\n",
              "      <th>volkswagen</th>\n",
              "      <td>1.5152</td>\n",
              "      <td>1.8302</td>\n",
              "      <td>4.2529</td>\n",
              "      <td>2.5015</td>\n",
              "      <td>2.0895</td>\n",
              "      <td>2.6878</td>\n",
              "      <td>2.3324</td>\n",
              "      <td>2.4899</td>\n",
              "      <td>1.0000</td>\n",
              "      <td>2.2146</td>\n",
              "      <td>3.1525</td>\n",
              "    </tr>\n",
              "    <tr>\n",
              "      <th>ford</th>\n",
              "      <td>1.5193</td>\n",
              "      <td>1.6380</td>\n",
              "      <td>1.7349</td>\n",
              "      <td>2.2897</td>\n",
              "      <td>1.7193</td>\n",
              "      <td>1.7193</td>\n",
              "      <td>2.0912</td>\n",
              "      <td>1.7219</td>\n",
              "      <td>2.2146</td>\n",
              "      <td>1.0000</td>\n",
              "      <td>3.6549</td>\n",
              "    </tr>\n",
              "    <tr>\n",
              "      <th>volvo</th>\n",
              "      <td>1.5967</td>\n",
              "      <td>3.2192</td>\n",
              "      <td>4.0942</td>\n",
              "      <td>2.2815</td>\n",
              "      <td>2.6698</td>\n",
              "      <td>3.5562</td>\n",
              "      <td>2.4250</td>\n",
              "      <td>4.5417</td>\n",
              "      <td>3.1525</td>\n",
              "      <td>3.6549</td>\n",
              "      <td>1.0000</td>\n",
              "    </tr>\n",
              "  </tbody>\n",
              "</table>\n",
              "</div>\n",
              "      <button class=\"colab-df-convert\" onclick=\"convertToInteractive('df-73bad387-53e0-4beb-ac22-64cf6f40e1b2')\"\n",
              "              title=\"Convert this dataframe to an interactive table.\"\n",
              "              style=\"display:none;\">\n",
              "        \n",
              "  <svg xmlns=\"http://www.w3.org/2000/svg\" height=\"24px\"viewBox=\"0 0 24 24\"\n",
              "       width=\"24px\">\n",
              "    <path d=\"M0 0h24v24H0V0z\" fill=\"none\"/>\n",
              "    <path d=\"M18.56 5.44l.94 2.06.94-2.06 2.06-.94-2.06-.94-.94-2.06-.94 2.06-2.06.94zm-11 1L8.5 8.5l.94-2.06 2.06-.94-2.06-.94L8.5 2.5l-.94 2.06-2.06.94zm10 10l.94 2.06.94-2.06 2.06-.94-2.06-.94-.94-2.06-.94 2.06-2.06.94z\"/><path d=\"M17.41 7.96l-1.37-1.37c-.4-.4-.92-.59-1.43-.59-.52 0-1.04.2-1.43.59L10.3 9.45l-7.72 7.72c-.78.78-.78 2.05 0 2.83L4 21.41c.39.39.9.59 1.41.59.51 0 1.02-.2 1.41-.59l7.78-7.78 2.81-2.81c.8-.78.8-2.07 0-2.86zM5.41 20L4 18.59l7.72-7.72 1.47 1.35L5.41 20z\"/>\n",
              "  </svg>\n",
              "      </button>\n",
              "      \n",
              "  <style>\n",
              "    .colab-df-container {\n",
              "      display:flex;\n",
              "      flex-wrap:wrap;\n",
              "      gap: 12px;\n",
              "    }\n",
              "\n",
              "    .colab-df-convert {\n",
              "      background-color: #E8F0FE;\n",
              "      border: none;\n",
              "      border-radius: 50%;\n",
              "      cursor: pointer;\n",
              "      display: none;\n",
              "      fill: #1967D2;\n",
              "      height: 32px;\n",
              "      padding: 0 0 0 0;\n",
              "      width: 32px;\n",
              "    }\n",
              "\n",
              "    .colab-df-convert:hover {\n",
              "      background-color: #E2EBFA;\n",
              "      box-shadow: 0px 1px 2px rgba(60, 64, 67, 0.3), 0px 1px 3px 1px rgba(60, 64, 67, 0.15);\n",
              "      fill: #174EA6;\n",
              "    }\n",
              "\n",
              "    [theme=dark] .colab-df-convert {\n",
              "      background-color: #3B4455;\n",
              "      fill: #D2E3FC;\n",
              "    }\n",
              "\n",
              "    [theme=dark] .colab-df-convert:hover {\n",
              "      background-color: #434B5C;\n",
              "      box-shadow: 0px 1px 3px 1px rgba(0, 0, 0, 0.15);\n",
              "      filter: drop-shadow(0px 1px 2px rgba(0, 0, 0, 0.3));\n",
              "      fill: #FFFFFF;\n",
              "    }\n",
              "  </style>\n",
              "\n",
              "      <script>\n",
              "        const buttonEl =\n",
              "          document.querySelector('#df-73bad387-53e0-4beb-ac22-64cf6f40e1b2 button.colab-df-convert');\n",
              "        buttonEl.style.display =\n",
              "          google.colab.kernel.accessAllowed ? 'block' : 'none';\n",
              "\n",
              "        async function convertToInteractive(key) {\n",
              "          const element = document.querySelector('#df-73bad387-53e0-4beb-ac22-64cf6f40e1b2');\n",
              "          const dataTable =\n",
              "            await google.colab.kernel.invokeFunction('convertToInteractive',\n",
              "                                                     [key], {});\n",
              "          if (!dataTable) return;\n",
              "\n",
              "          const docLinkHtml = 'Like what you see? Visit the ' +\n",
              "            '<a target=\"_blank\" href=https://colab.research.google.com/notebooks/data_table.ipynb>data table notebook</a>'\n",
              "            + ' to learn more about interactive tables.';\n",
              "          element.innerHTML = '';\n",
              "          dataTable['output_type'] = 'display_data';\n",
              "          await google.colab.output.renderOutput(dataTable, element);\n",
              "          const docLink = document.createElement('div');\n",
              "          docLink.innerHTML = docLinkHtml;\n",
              "          element.appendChild(docLink);\n",
              "        }\n",
              "      </script>\n",
              "    </div>\n",
              "  </div>\n",
              "  "
            ]
          },
          "metadata": {},
          "execution_count": 15
        }
      ],
      "source": [
        "lift_matrix = lift_everything(brands,messages_with_brands)\n",
        "lift_matrix_full = np.maximum( lift_matrix, lift_matrix.transpose())\n",
        "lift_matrix_full"
      ]
    },
    {
      "cell_type": "markdown",
      "source": [
        "##Task D: \n",
        "Show the brands on a multi-dimensional scaling (MDS) map (use a Python script for MDS, there are multiple scripts available on GitHub). "
      ],
      "metadata": {
        "id": "SH1b-Pj9_gCj"
      }
    },
    {
      "cell_type": "code",
      "source": [
        "## Calculating the dissimilarity matrix which is the input for plotting MDS plot\n",
        "dissimilarity_matrix = 1/lift_matrix_full\n",
        "np.fill_diagonal(dissimilarity_matrix.values, 0)\n",
        "\n",
        "## Plotting MDS plot\n",
        "from sklearn import manifold\n",
        "seed = np.random.RandomState(seed=3)\n",
        "mds = manifold.MDS(n_components=2, max_iter=3000, eps=1e-9, \n",
        "      random_state=seed, dissimilarity=\"precomputed\", n_jobs=1)\n",
        "results = mds.fit(dissimilarity_matrix)\n",
        "coords = results.embedding_\n",
        "\n",
        "\n",
        "plt.subplots_adjust(bottom = 0.1)\n",
        "plt.scatter(\n",
        "    coords[:, 0], coords[:, 1], marker = '*'\n",
        "    )\n",
        "for label, x, y in zip(brands, coords[:, 0], coords[:, 1]):\n",
        "    \n",
        "    plt.annotate(\n",
        "        label,\n",
        "        xy = (x, y), xytext = (-20, 20),\n",
        "        textcoords = 'offset points',ha = 'left', va = 'bottom',\n",
        "        bbox = dict(boxstyle = 'round,pad=0.5', fc = 'red', alpha = 0.5),\n",
        "        arrowprops = dict(arrowstyle = '->', connectionstyle = 'arc3,rad=0'))\n",
        "\n",
        "plt.show()"
      ],
      "metadata": {
        "colab": {
          "base_uri": "https://localhost:8080/",
          "height": 401
        },
        "id": "0_p5HX2dFIqt",
        "outputId": "70027774-a54c-4d69-e40e-e17e11ab10a8"
      },
      "execution_count": null,
      "outputs": [
        {
          "output_type": "stream",
          "name": "stderr",
          "text": [
            "/usr/local/lib/python3.7/dist-packages/sklearn/utils/validation.py:1692: FutureWarning: Feature names only support names that are all strings. Got feature names with dtypes: ['tuple']. An error will be raised in 1.2.\n",
            "  FutureWarning,\n"
          ]
        },
        {
          "output_type": "execute_result",
          "data": {
            "text/plain": [
              "<matplotlib.collections.PathCollection at 0x7fe9a5daa850>"
            ]
          },
          "metadata": {},
          "execution_count": 16
        },
        {
          "output_type": "execute_result",
          "data": {
            "text/plain": [
              "Text(-20, 20, 'bmw')"
            ]
          },
          "metadata": {},
          "execution_count": 16
        },
        {
          "output_type": "execute_result",
          "data": {
            "text/plain": [
              "Text(-20, 20, 'acura')"
            ]
          },
          "metadata": {},
          "execution_count": 16
        },
        {
          "output_type": "execute_result",
          "data": {
            "text/plain": [
              "Text(-20, 20, 'audi')"
            ]
          },
          "metadata": {},
          "execution_count": 16
        },
        {
          "output_type": "execute_result",
          "data": {
            "text/plain": [
              "Text(-20, 20, 'honda')"
            ]
          },
          "metadata": {},
          "execution_count": 16
        },
        {
          "output_type": "execute_result",
          "data": {
            "text/plain": [
              "Text(-20, 20, 'infiniti')"
            ]
          },
          "metadata": {},
          "execution_count": 16
        },
        {
          "output_type": "execute_result",
          "data": {
            "text/plain": [
              "Text(-20, 20, 'nissan')"
            ]
          },
          "metadata": {},
          "execution_count": 16
        },
        {
          "output_type": "execute_result",
          "data": {
            "text/plain": [
              "Text(-20, 20, 'toyota')"
            ]
          },
          "metadata": {},
          "execution_count": 16
        },
        {
          "output_type": "execute_result",
          "data": {
            "text/plain": [
              "Text(-20, 20, 'subaru')"
            ]
          },
          "metadata": {},
          "execution_count": 16
        },
        {
          "output_type": "execute_result",
          "data": {
            "text/plain": [
              "Text(-20, 20, 'volkswagen')"
            ]
          },
          "metadata": {},
          "execution_count": 16
        },
        {
          "output_type": "execute_result",
          "data": {
            "text/plain": [
              "Text(-20, 20, 'ford')"
            ]
          },
          "metadata": {},
          "execution_count": 16
        },
        {
          "output_type": "execute_result",
          "data": {
            "text/plain": [
              "Text(-20, 20, 'volvo')"
            ]
          },
          "metadata": {},
          "execution_count": 16
        },
        {
          "output_type": "display_data",
          "data": {
            "text/plain": [
              "<Figure size 432x288 with 1 Axes>"
            ],
            "image/png": "[encoded data removed]"
          },
          "metadata": {
            "needs_background": "light"
          }
        }
      ]
    },
    {
      "cell_type": "markdown",
      "source": [
        "# Task E: \n",
        "What insights can you offer to your client from your analyses in Tasks C and D "
      ],
      "metadata": {
        "id": "J5j_US_l55PD"
      }
    },
    {
      "cell_type": "markdown",
      "source": [
        "# Answer\n",
        "\n",
        "Subaru-Volvo\n",
        "Subaru has been working on its safety feature recently, and we know that Volvo is often associated with safety. So we can derive that the lift value of 4.5 between these two brands emphasises this. Here is an article that talks about Subaru's new safety features. https://www.caranddriver.com/news/a37456933/2022-subaru-forester-revealed-specs-details\n",
        "\n",
        "\n",
        "Honda-Toyota-Nissan \n",
        "All of these brands have over 4.0 lift values with each other. They all seem to occupy and compete for the same slice of the market. They all have the same price range and are all very reliable cars. College students enjoy these cars for both their reliability and relatively lower prices. \n",
        "\n",
        "\n",
        "BMW\n",
        "We see that the lift value of BMW with other brands is relatively around the range of 1-2, this goes to show that BMW as a brand is often compared less with other cars when compared to the other brands in the list. This could mean that owners of BMW do not intend to change to other brands as easily.\n",
        "\n"
      ],
      "metadata": {
        "id": "NpuRhXnhC2qD"
      }
    },
    {
      "cell_type": "markdown",
      "source": [
        "# Task F: \n",
        "\n",
        "What are 5 most frequently mentioned attributes or features of cars in the discussions? Which attributes are most strongly associated with which of these 5 brands? You DON’T have to do a sentiment analysis for this assignment."
      ],
      "metadata": {
        "id": "FkwuqkBGFLkg"
      }
    },
    {
      "cell_type": "code",
      "source": [
        "#Read the respective files \n",
        "colnames = ['id','date','comments']\n",
        "df = pd.read_csv(r'scrape.csv', sep=',', names = colnames)\n",
        "\n",
        "model_brand = pd.read_csv('car models and brands.csv', header = None)\n",
        "model_brand.columns = ['brand','model']\n",
        "model_brand_dict = model_brand[\"brand\"].to_dict()\n",
        "\n",
        "stop = stopwords.words('english')\n",
        "df['comments'] = df['comments'].astype(str)\n",
        "df['comments_tokens'] = df['comments'].apply(lambda each_post: word_tokenize(re.sub(r'[^\\w\\s]',' ',each_post.lower())))\n",
        "df['comments_tokens'] = df['comments_tokens'].apply(lambda list_of_words: [x if x not in model_brand_dict else model_brand_dict[x] for x in list_of_words])\n",
        "df['comments_tokens'] = df['comments_tokens'].apply(lambda list_of_words: [x for x in list_of_words if x not in stop])\n",
        "df['comments_unique'] = df['comments_tokens'].apply(lambda x: sorted(set(x)))\n",
        "\n",
        "# POS Tagging\n",
        "df['pos']=df['comments_unique'].apply(nltk.tag.pos_tag)\n",
        "\n",
        "# Filter adjectives\n",
        "df['adjectives']=df['pos'].apply(lambda pos_list: [x[0] for x in pos_list if x[1].endswith('JJ')])\n",
        "df.head()"
      ],
      "metadata": {
        "id": "yi9ck3LTGNCu",
        "colab": {
          "base_uri": "https://localhost:8080/",
          "height": 337
        },
        "outputId": "666f0e65-fe09-4ebb-8aad-047057946751"
      },
      "execution_count": null,
      "outputs": [
        {
          "output_type": "execute_result",
          "data": {
            "text/plain": [
              "    id                    date  \\\n",
              "0  NaN                    Time   \n",
              "1  0.0  March 23, 2002 12:04PM   \n",
              "2  1.0  March 24, 2002 10:54PM   \n",
              "3  2.0  March 25, 2002 12:06AM   \n",
              "4  3.0  March 25, 2002 10:02AM   \n",
              "\n",
              "                                            comments  \\\n",
              "0                                           Comments   \n",
              "1  Entry level performance luxury sedans are a ho...   \n",
              "2  I personally think that with a few tweaks the ...   \n",
              "3  I am debating a new purchase and these two are...   \n",
              "4  Great handling, RWD, excellent engine and the ...   \n",
              "\n",
              "                                     comments_tokens  \\\n",
              "0                                         [comments]   \n",
              "1  [entry, level, performance, luxury, sedans, ho...   \n",
              "2  [personally, think, tweaks, c320, could, also,...   \n",
              "3  [debating, new, purchase, two, top, list, pric...   \n",
              "4  [great, handling, rwd, excellent, engine, best...   \n",
              "\n",
              "                                     comments_unique  \\\n",
              "0                                         [comments]   \n",
              "1  [0, 3, 30, 300m, 330, 40k, 60, a4, acura, addi...   \n",
              "2  [0, 10, 17, 2002, 2003, 255hp, 3, 300m, 330i, ...   \n",
              "3  [2002, 6k, acura, appreciate, approx, better, ...   \n",
              "4  [around, best, easy, engine, excellent, great,...   \n",
              "\n",
              "                                                 pos  \\\n",
              "0                                  [(comments, NNS)]   \n",
              "1  [(0, CD), (3, CD), (30, CD), (300m, CD), (330,...   \n",
              "2  [(0, CD), (10, CD), (17, CD), (2002, CD), (200...   \n",
              "3  [(2002, CD), (6k, CD), (acura, NN), (appreciat...   \n",
              "4  [(around, RB), (best, JJS), (easy, JJ), (engin...   \n",
              "\n",
              "                                          adjectives  \n",
              "0                                                 []  \n",
              "1  [available, common, define, es300, evaluate, g...  \n",
              "2  [accpetable, american, audi, awful, believe, b...  \n",
              "3  [familiar, great, initial, lexus, new, overall...  \n",
              "4                      [easy, excellent, great, rwd]  "
            ],
            "text/html": [
              "\n",
              "  <div id=\"df-0c381fc5-ad0c-4a70-8361-0e95c04c5650\">\n",
              "    <div class=\"colab-df-container\">\n",
              "      <div>\n",
              "<style scoped>\n",
              "    .dataframe tbody tr th:only-of-type {\n",
              "        vertical-align: middle;\n",
              "    }\n",
              "\n",
              "    .dataframe tbody tr th {\n",
              "        vertical-align: top;\n",
              "    }\n",
              "\n",
              "    .dataframe thead th {\n",
              "        text-align: right;\n",
              "    }\n",
              "</style>\n",
              "<table border=\"1\" class=\"dataframe\">\n",
              "  <thead>\n",
              "    <tr style=\"text-align: right;\">\n",
              "      <th></th>\n",
              "      <th>id</th>\n",
              "      <th>date</th>\n",
              "      <th>comments</th>\n",
              "      <th>comments_tokens</th>\n",
              "      <th>comments_unique</th>\n",
              "      <th>pos</th>\n",
              "      <th>adjectives</th>\n",
              "    </tr>\n",
              "  </thead>\n",
              "  <tbody>\n",
              "    <tr>\n",
              "      <th>0</th>\n",
              "      <td>NaN</td>\n",
              "      <td>Time</td>\n",
              "      <td>Comments</td>\n",
              "      <td>[comments]</td>\n",
              "      <td>[comments]</td>\n",
              "      <td>[(comments, NNS)]</td>\n",
              "      <td>[]</td>\n",
              "    </tr>\n",
              "    <tr>\n",
              "      <th>1</th>\n",
              "      <td>0.0</td>\n",
              "      <td>March 23, 2002 12:04PM</td>\n",
              "      <td>Entry level performance luxury sedans are a ho...</td>\n",
              "      <td>[entry, level, performance, luxury, sedans, ho...</td>\n",
              "      <td>[0, 3, 30, 300m, 330, 40k, 60, a4, acura, addi...</td>\n",
              "      <td>[(0, CD), (3, CD), (30, CD), (300m, CD), (330,...</td>\n",
              "      <td>[available, common, define, es300, evaluate, g...</td>\n",
              "    </tr>\n",
              "    <tr>\n",
              "      <th>2</th>\n",
              "      <td>1.0</td>\n",
              "      <td>March 24, 2002 10:54PM</td>\n",
              "      <td>I personally think that with a few tweaks the ...</td>\n",
              "      <td>[personally, think, tweaks, c320, could, also,...</td>\n",
              "      <td>[0, 10, 17, 2002, 2003, 255hp, 3, 300m, 330i, ...</td>\n",
              "      <td>[(0, CD), (10, CD), (17, CD), (2002, CD), (200...</td>\n",
              "      <td>[accpetable, american, audi, awful, believe, b...</td>\n",
              "    </tr>\n",
              "    <tr>\n",
              "      <th>3</th>\n",
              "      <td>2.0</td>\n",
              "      <td>March 25, 2002 12:06AM</td>\n",
              "      <td>I am debating a new purchase and these two are...</td>\n",
              "      <td>[debating, new, purchase, two, top, list, pric...</td>\n",
              "      <td>[2002, 6k, acura, appreciate, approx, better, ...</td>\n",
              "      <td>[(2002, CD), (6k, CD), (acura, NN), (appreciat...</td>\n",
              "      <td>[familiar, great, initial, lexus, new, overall...</td>\n",
              "    </tr>\n",
              "    <tr>\n",
              "      <th>4</th>\n",
              "      <td>3.0</td>\n",
              "      <td>March 25, 2002 10:02AM</td>\n",
              "      <td>Great handling, RWD, excellent engine and the ...</td>\n",
              "      <td>[great, handling, rwd, excellent, engine, best...</td>\n",
              "      <td>[around, best, easy, engine, excellent, great,...</td>\n",
              "      <td>[(around, RB), (best, JJS), (easy, JJ), (engin...</td>\n",
              "      <td>[easy, excellent, great, rwd]</td>\n",
              "    </tr>\n",
              "  </tbody>\n",
              "</table>\n",
              "</div>\n",
              "      <button class=\"colab-df-convert\" onclick=\"convertToInteractive('df-0c381fc5-ad0c-4a70-8361-0e95c04c5650')\"\n",
              "              title=\"Convert this dataframe to an interactive table.\"\n",
              "              style=\"display:none;\">\n",
              "        \n",
              "  <svg xmlns=\"http://www.w3.org/2000/svg\" height=\"24px\"viewBox=\"0 0 24 24\"\n",
              "       width=\"24px\">\n",
              "    <path d=\"M0 0h24v24H0V0z\" fill=\"none\"/>\n",
              "    <path d=\"M18.56 5.44l.94 2.06.94-2.06 2.06-.94-2.06-.94-.94-2.06-.94 2.06-2.06.94zm-11 1L8.5 8.5l.94-2.06 2.06-.94-2.06-.94L8.5 2.5l-.94 2.06-2.06.94zm10 10l.94 2.06.94-2.06 2.06-.94-2.06-.94-.94-2.06-.94 2.06-2.06.94z\"/><path d=\"M17.41 7.96l-1.37-1.37c-.4-.4-.92-.59-1.43-.59-.52 0-1.04.2-1.43.59L10.3 9.45l-7.72 7.72c-.78.78-.78 2.05 0 2.83L4 21.41c.39.39.9.59 1.41.59.51 0 1.02-.2 1.41-.59l7.78-7.78 2.81-2.81c.8-.78.8-2.07 0-2.86zM5.41 20L4 18.59l7.72-7.72 1.47 1.35L5.41 20z\"/>\n",
              "  </svg>\n",
              "      </button>\n",
              "      \n",
              "  <style>\n",
              "    .colab-df-container {\n",
              "      display:flex;\n",
              "      flex-wrap:wrap;\n",
              "      gap: 12px;\n",
              "    }\n",
              "\n",
              "    .colab-df-convert {\n",
              "      background-color: #E8F0FE;\n",
              "      border: none;\n",
              "      border-radius: 50%;\n",
              "      cursor: pointer;\n",
              "      display: none;\n",
              "      fill: #1967D2;\n",
              "      height: 32px;\n",
              "      padding: 0 0 0 0;\n",
              "      width: 32px;\n",
              "    }\n",
              "\n",
              "    .colab-df-convert:hover {\n",
              "      background-color: #E2EBFA;\n",
              "      box-shadow: 0px 1px 2px rgba(60, 64, 67, 0.3), 0px 1px 3px 1px rgba(60, 64, 67, 0.15);\n",
              "      fill: #174EA6;\n",
              "    }\n",
              "\n",
              "    [theme=dark] .colab-df-convert {\n",
              "      background-color: #3B4455;\n",
              "      fill: #D2E3FC;\n",
              "    }\n",
              "\n",
              "    [theme=dark] .colab-df-convert:hover {\n",
              "      background-color: #434B5C;\n",
              "      box-shadow: 0px 1px 3px 1px rgba(0, 0, 0, 0.15);\n",
              "      filter: drop-shadow(0px 1px 2px rgba(0, 0, 0, 0.3));\n",
              "      fill: #FFFFFF;\n",
              "    }\n",
              "  </style>\n",
              "\n",
              "      <script>\n",
              "        const buttonEl =\n",
              "          document.querySelector('#df-0c381fc5-ad0c-4a70-8361-0e95c04c5650 button.colab-df-convert');\n",
              "        buttonEl.style.display =\n",
              "          google.colab.kernel.accessAllowed ? 'block' : 'none';\n",
              "\n",
              "        async function convertToInteractive(key) {\n",
              "          const element = document.querySelector('#df-0c381fc5-ad0c-4a70-8361-0e95c04c5650');\n",
              "          const dataTable =\n",
              "            await google.colab.kernel.invokeFunction('convertToInteractive',\n",
              "                                                     [key], {});\n",
              "          if (!dataTable) return;\n",
              "\n",
              "          const docLinkHtml = 'Like what you see? Visit the ' +\n",
              "            '<a target=\"_blank\" href=https://colab.research.google.com/notebooks/data_table.ipynb>data table notebook</a>'\n",
              "            + ' to learn more about interactive tables.';\n",
              "          element.innerHTML = '';\n",
              "          dataTable['output_type'] = 'display_data';\n",
              "          await google.colab.output.renderOutput(dataTable, element);\n",
              "          const docLink = document.createElement('div');\n",
              "          docLink.innerHTML = docLinkHtml;\n",
              "          element.appendChild(docLink);\n",
              "        }\n",
              "      </script>\n",
              "    </div>\n",
              "  </div>\n",
              "  "
            ]
          },
          "metadata": {},
          "execution_count": 17
        }
      ]
    },
    {
      "cell_type": "code",
      "source": [
        "feature = ['comfortable', 'safety', 'security', 'style', 'fashionable', 'color', 'luxury', 'price', 'affordable', 'speed', 'performance', 'consumption', 'maintainence', 'capacity']\n",
        "df_feature = pd.DataFrame(feature, columns = ['feature'])\n",
        "\n",
        "dict_feature = df_feature[\"feature\"].to_dict()\n",
        "df[\"features_tokens\"] = df[\"comments_unique\"].apply(lambda list_of_words: [dict_feature[x] for x in list_of_words if x in dict_feature])\n",
        "\n",
        "# Get top 5 brands to find the attributes that are most associated with\n",
        "top_brand = brands[0:5]\n",
        "\n",
        "# Get frequency of features\n",
        "unique_feature = np.unique(df_feature['feature'])\n",
        "\n",
        "def freq(tokenized_df,find_list):\n",
        "    freq_feature = 0\n",
        "    for i in tokenized_df:\n",
        "        if find_list in i:\n",
        "            freq_feature += 1\n",
        "    return freq_feature\n",
        "  \n",
        "df_top_features = pd.DataFrame(columns=['feature','freq'])\n",
        "for i,feature in enumerate(unique_feature):\n",
        "        temp_freq = freq(df.comments_unique,str(feature))\n",
        "        df_top_features.loc[i]=[str(feature),temp_freq]\n",
        "        \n",
        "top_features = df_top_features.sort_values(by='freq',ascending=False).head(5)\n",
        "\n",
        "# Calculate Lift value\n",
        "def calculate_lift(a, b, tokenized_posts):\n",
        "    num_a = 0\n",
        "    num_b = 0\n",
        "    num_a_b = 0\n",
        "    n = len(tokenized_posts)\n",
        "    if a==b:\n",
        "        return 1\n",
        "    for i in tokenized_posts:\n",
        "        if a in i:\n",
        "            num_a += 1\n",
        "        if b in i:\n",
        "            num_b += 1\n",
        "        if a in i and b in i:\n",
        "            num_a_b += 1\n",
        "    if num_a == 0:\n",
        "        return (float(n)*num_a_b)/(num_b)\n",
        "    elif num_b == 0:\n",
        "        return (float(n)*num_a_b)/(num_a)\n",
        "    else:\n",
        "        return (float(n)*num_a_b)/(num_a*num_b)\n",
        "\n",
        "# Lift: features and brands\n",
        "lift_feature_brand = pd.DataFrame(columns = ['brand','feature','lift'])\n",
        "i=0\n",
        "for  brand_a in top_brand:\n",
        "    for feature in top_features['feature']:\n",
        "        temp_lift=calculate_lift(str(brand_a), str(feature), df.comments_unique)\n",
        "        lift_feature_brand.loc[i]=[str(brand_a),str(feature),temp_lift]\n",
        "        i=i+1\n",
        "        \n",
        "df_lift = lift_feature_brand.sort_values('lift',ascending = False).groupby('brand').head(10)\n",
        "\n",
        "# Print the lift matrix\n",
        "lift_matrix2 = df_lift.pivot(index='brand', columns='feature')\n",
        "lift_matrix2"
      ],
      "metadata": {
        "id": "z6NhyVKL7zA5",
        "colab": {
          "base_uri": "https://localhost:8080/",
          "height": 269
        },
        "outputId": "adacaffb-0a50-477d-af63-824b49e47704"
      },
      "execution_count": null,
      "outputs": [
        {
          "output_type": "execute_result",
          "data": {
            "text/plain": [
              "              lift                                          \n",
              "feature     luxury performance     price     speed     style\n",
              "brand                                                       \n",
              "acura     2.243793    1.694523  1.633628  1.492233  1.623175\n",
              "audi      1.620081    1.674254  2.074337  1.553510  2.884868\n",
              "bmw       1.471911    1.557244  1.625949  1.298447  1.735214\n",
              "honda     2.050681    1.201938  1.530600  1.508671  2.171243\n",
              "infiniti  1.795668    1.660705  1.681006  1.077000  1.788451"
            ],
            "text/html": [
              "\n",
              "  <div id=\"df-00a417ae-86d3-4244-a7b9-1bd8e5ebcdd2\">\n",
              "    <div class=\"colab-df-container\">\n",
              "      <div>\n",
              "<style scoped>\n",
              "    .dataframe tbody tr th:only-of-type {\n",
              "        vertical-align: middle;\n",
              "    }\n",
              "\n",
              "    .dataframe tbody tr th {\n",
              "        vertical-align: top;\n",
              "    }\n",
              "\n",
              "    .dataframe thead tr th {\n",
              "        text-align: left;\n",
              "    }\n",
              "\n",
              "    .dataframe thead tr:last-of-type th {\n",
              "        text-align: right;\n",
              "    }\n",
              "</style>\n",
              "<table border=\"1\" class=\"dataframe\">\n",
              "  <thead>\n",
              "    <tr>\n",
              "      <th></th>\n",
              "      <th colspan=\"5\" halign=\"left\">lift</th>\n",
              "    </tr>\n",
              "    <tr>\n",
              "      <th>feature</th>\n",
              "      <th>luxury</th>\n",
              "      <th>performance</th>\n",
              "      <th>price</th>\n",
              "      <th>speed</th>\n",
              "      <th>style</th>\n",
              "    </tr>\n",
              "    <tr>\n",
              "      <th>brand</th>\n",
              "      <th></th>\n",
              "      <th></th>\n",
              "      <th></th>\n",
              "      <th></th>\n",
              "      <th></th>\n",
              "    </tr>\n",
              "  </thead>\n",
              "  <tbody>\n",
              "    <tr>\n",
              "      <th>acura</th>\n",
              "      <td>2.243793</td>\n",
              "      <td>1.694523</td>\n",
              "      <td>1.633628</td>\n",
              "      <td>1.492233</td>\n",
              "      <td>1.623175</td>\n",
              "    </tr>\n",
              "    <tr>\n",
              "      <th>audi</th>\n",
              "      <td>1.620081</td>\n",
              "      <td>1.674254</td>\n",
              "      <td>2.074337</td>\n",
              "      <td>1.553510</td>\n",
              "      <td>2.884868</td>\n",
              "    </tr>\n",
              "    <tr>\n",
              "      <th>bmw</th>\n",
              "      <td>1.471911</td>\n",
              "      <td>1.557244</td>\n",
              "      <td>1.625949</td>\n",
              "      <td>1.298447</td>\n",
              "      <td>1.735214</td>\n",
              "    </tr>\n",
              "    <tr>\n",
              "      <th>honda</th>\n",
              "      <td>2.050681</td>\n",
              "      <td>1.201938</td>\n",
              "      <td>1.530600</td>\n",
              "      <td>1.508671</td>\n",
              "      <td>2.171243</td>\n",
              "    </tr>\n",
              "    <tr>\n",
              "      <th>infiniti</th>\n",
              "      <td>1.795668</td>\n",
              "      <td>1.660705</td>\n",
              "      <td>1.681006</td>\n",
              "      <td>1.077000</td>\n",
              "      <td>1.788451</td>\n",
              "    </tr>\n",
              "  </tbody>\n",
              "</table>\n",
              "</div>\n",
              "      <button class=\"colab-df-convert\" onclick=\"convertToInteractive('df-00a417ae-86d3-4244-a7b9-1bd8e5ebcdd2')\"\n",
              "              title=\"Convert this dataframe to an interactive table.\"\n",
              "              style=\"display:none;\">\n",
              "        \n",
              "  <svg xmlns=\"http://www.w3.org/2000/svg\" height=\"24px\"viewBox=\"0 0 24 24\"\n",
              "       width=\"24px\">\n",
              "    <path d=\"M0 0h24v24H0V0z\" fill=\"none\"/>\n",
              "    <path d=\"M18.56 5.44l.94 2.06.94-2.06 2.06-.94-2.06-.94-.94-2.06-.94 2.06-2.06.94zm-11 1L8.5 8.5l.94-2.06 2.06-.94-2.06-.94L8.5 2.5l-.94 2.06-2.06.94zm10 10l.94 2.06.94-2.06 2.06-.94-2.06-.94-.94-2.06-.94 2.06-2.06.94z\"/><path d=\"M17.41 7.96l-1.37-1.37c-.4-.4-.92-.59-1.43-.59-.52 0-1.04.2-1.43.59L10.3 9.45l-7.72 7.72c-.78.78-.78 2.05 0 2.83L4 21.41c.39.39.9.59 1.41.59.51 0 1.02-.2 1.41-.59l7.78-7.78 2.81-2.81c.8-.78.8-2.07 0-2.86zM5.41 20L4 18.59l7.72-7.72 1.47 1.35L5.41 20z\"/>\n",
              "  </svg>\n",
              "      </button>\n",
              "      \n",
              "  <style>\n",
              "    .colab-df-container {\n",
              "      display:flex;\n",
              "      flex-wrap:wrap;\n",
              "      gap: 12px;\n",
              "    }\n",
              "\n",
              "    .colab-df-convert {\n",
              "      background-color: #E8F0FE;\n",
              "      border: none;\n",
              "      border-radius: 50%;\n",
              "      cursor: pointer;\n",
              "      display: none;\n",
              "      fill: #1967D2;\n",
              "      height: 32px;\n",
              "      padding: 0 0 0 0;\n",
              "      width: 32px;\n",
              "    }\n",
              "\n",
              "    .colab-df-convert:hover {\n",
              "      background-color: #E2EBFA;\n",
              "      box-shadow: 0px 1px 2px rgba(60, 64, 67, 0.3), 0px 1px 3px 1px rgba(60, 64, 67, 0.15);\n",
              "      fill: #174EA6;\n",
              "    }\n",
              "\n",
              "    [theme=dark] .colab-df-convert {\n",
              "      background-color: #3B4455;\n",
              "      fill: #D2E3FC;\n",
              "    }\n",
              "\n",
              "    [theme=dark] .colab-df-convert:hover {\n",
              "      background-color: #434B5C;\n",
              "      box-shadow: 0px 1px 3px 1px rgba(0, 0, 0, 0.15);\n",
              "      filter: drop-shadow(0px 1px 2px rgba(0, 0, 0, 0.3));\n",
              "      fill: #FFFFFF;\n",
              "    }\n",
              "  </style>\n",
              "\n",
              "      <script>\n",
              "        const buttonEl =\n",
              "          document.querySelector('#df-00a417ae-86d3-4244-a7b9-1bd8e5ebcdd2 button.colab-df-convert');\n",
              "        buttonEl.style.display =\n",
              "          google.colab.kernel.accessAllowed ? 'block' : 'none';\n",
              "\n",
              "        async function convertToInteractive(key) {\n",
              "          const element = document.querySelector('#df-00a417ae-86d3-4244-a7b9-1bd8e5ebcdd2');\n",
              "          const dataTable =\n",
              "            await google.colab.kernel.invokeFunction('convertToInteractive',\n",
              "                                                     [key], {});\n",
              "          if (!dataTable) return;\n",
              "\n",
              "          const docLinkHtml = 'Like what you see? Visit the ' +\n",
              "            '<a target=\"_blank\" href=https://colab.research.google.com/notebooks/data_table.ipynb>data table notebook</a>'\n",
              "            + ' to learn more about interactive tables.';\n",
              "          element.innerHTML = '';\n",
              "          dataTable['output_type'] = 'display_data';\n",
              "          await google.colab.output.renderOutput(dataTable, element);\n",
              "          const docLink = document.createElement('div');\n",
              "          docLink.innerHTML = docLinkHtml;\n",
              "          element.appendChild(docLink);\n",
              "        }\n",
              "      </script>\n",
              "    </div>\n",
              "  </div>\n",
              "  "
            ]
          },
          "metadata": {},
          "execution_count": 18
        }
      ]
    },
    {
      "cell_type": "markdown",
      "source": [
        "#Task G: \n",
        "What advice will you give to your client from Task F? For this assignment, you can assume that all sentiments are positive. "
      ],
      "metadata": {
        "id": "w2l7UnT8Hc5P"
      }
    },
    {
      "cell_type": "markdown",
      "source": [
        "# Answer\n",
        "**Acura**\n",
        "Acura is the highest amongst the top 5 brands for Luxury with a lift value of 2.24 . They are perceived as having the most comfortable features. However, In the other four categories, it is regarded as being about average. They should concentrate on enhancing style as it is the weakest among the other four with a value of 1.6, which would help them draw in more clients who would purchase their products because of their luxurious characteristics. Our advice is for their design team to look into making the next Acuras more stylish and how to make the upcoming Acuras more fashionable and test several ideas to see how people react.\n",
        "\n",
        "**BMW** It is bizarre that BMW did not stand high on the luxury lift column; despite being a luxury car brand. We could interpret this as the fact that it is a given that BMW doesn't need extra mentions about its luxury. Association between BWM and speed seems to be low too with a value of 1.2. Therefore, our advice would be for the Engineering team to target the weakest link - speed or for the marketing team to focus on increasing the spotlight on the speed aspect. \n",
        "\n",
        "**Honda**\n",
        "With highest luxury (2.05) and style (2.19) lift values among all the other brands on our list makes Honda seem very intriguing. The lift value for the price can likely be interpreted as being very affordable. On the other hand, given that luxury is one of the highest, it might be thought to offer outstanding luxury at a reasonable cost. They have been rebranding themselves. Therefore this might indicate that their marketing strategies are working. \"Performance\" is weaker for Honda, with a lift value of 1.2, the smallest lift value with Performance compared to the other top 4 brands. Speed and Performance are often compared to mileage and power. Our advice to Honda would be to ask them to continue what they are doing because it seems to be working for them, and enhancements under the performance category would be a bonus.\n",
        "\n",
        "**Audi** In the Style category, Audi is at the top with a lift value of 2.88. It is quite alluring to those who want a car that looks exceptionally fantastic. However, as evidenced by the highest price lift value, this has the highest price point (assuming a high lift in price is the highest price). This is consistent with what most people know about the costs of Audis. Additionally, They also have the highest speed and perform decently in all other categories. Our advice for Audi would be to try and lower their price a little to make the entry point for a brand with decent to best-in-class features a little more appealing.\n",
        "\n",
        "**Infiniti**\n",
        "Infiniti holds a steady lift of 1.7 - 1.6 with almost all five attributes. This shows that their cars are just average in any of these features, not giving them a chance to stand out in any particular categories. The speed value of Infiniti is the worst of all other car features on the matrix, with a value of just 1.06. We could advise the engineering team of Infiniti to look into designs that would allow the vehicles to be more aerodynamic and have better horsepower, increasing consumer satisfaction in the speed category.\n"
      ],
      "metadata": {
        "id": "Qr_9cz3hHuz2"
      }
    },
    {
      "cell_type": "markdown",
      "source": [
        "#Task H: \n",
        "Which is the most aspirational brand in your data in terms of people actually wanting to buy or own? Describe your analysis. What are the business implications for this brand?"
      ],
      "metadata": {
        "id": "T0UrSqDBQFBW"
      }
    },
    {
      "cell_type": "code",
      "source": [
        "# Create a list of all the aspirational phrases or words list, to replace the comments containing these texts with \"aspiration\"\n",
        "aspirational_words = ['hope that', 'hope to', 'wish to', 'wish that', 'dream to', 'dream that', 'would like', 'would love', 'aim', 'plan to', 'need to', 'needs to']\n",
        "aspiration = pd.DataFrame(aspirational_words)\n",
        "aspiration.columns=['phrases']\n",
        "aspiration_list = aspiration['phrases'].to_list()\n",
        "\n",
        "for i in aspirational_words:\n",
        "    df['comments_aspiration'] = df['comments'].str.replace(i,\"aspiration\")\n",
        "\n",
        "df['comments_tokens'] = df['comments_aspiration'].apply(lambda each_post: word_tokenize(re.sub(r'[^\\w\\s]',' ',each_post.lower())))\n",
        "df['comments_tokens'] = df['comments_tokens'].apply(lambda list_of_words: [x if x not in model_brand_dict else model_brand_dict[x] for x in list_of_words])\n",
        "df['comments_tokens'] = df['comments_tokens'].apply(lambda list_of_words: [x for x in list_of_words if x not in stop])\n",
        "df['comments_unique'] = df['comments_tokens'].apply(lambda x: sorted(set(x)))\n",
        "# Lift: features and brands\n",
        "lift_aspiration_brand = pd.DataFrame(columns = ['brand','feature','lift'])\n",
        "i=0\n",
        "for brand in brands:\n",
        "    temp_lift=calculate_lift(str(brand), df.comments_unique.contains('aspiratio'), df.comments_unique)\n",
        "    lift_aspiration_brand.loc[i]=[str(brand),str(df.comments_unique).contains('aspiratio'),temp_lift]\n",
        "    i=i+1\n",
        "\n",
        "lift_aspiration_brand.sort_values('lift',ascending = False).head(10)"
      ],
      "metadata": {
        "id": "mBsbKcmvX52f"
      },
      "execution_count": null,
      "outputs": []
    },
    {
      "cell_type": "markdown",
      "source": [
        "# Answer\n",
        "Even if Volvo is occasionally mentioned, it always has a highly positive connotation. The folks who have invested in Volvo are highly optimistic about their potential. Volvo needs to be careful not to squander this opportunity and work to live up to the high expectations with its aspirations to make a significant entry into the electric vehicle industry. Current Volvo supporters' aspirations to compete with Tesla as a premium electric car maker are pretty exciting. Volvo will need to ensure they are competitive in those two areas to take advantage of this potential because people are concerned with the performance of electric cars in terms of both efficiencies compared to ordinary automobiles and pricing."
      ],
      "metadata": {
        "id": "AgHFyYzyRqa-"
      }
    }
  ],
  "metadata": {
    "kernelspec": {
      "display_name": "Python 3.9.12 ('base')",
      "language": "python",
      "name": "python3"
    },
    "language_info": {
      "codemirror_mode": {
        "name": "ipython",
        "version": 3
      },
      "file_extension": ".py",
      "mimetype": "text/x-python",
      "name": "python",
      "nbconvert_exporter": "python",
      "pygments_lexer": "ipython3",
      "version": "3.9.12"
    },
    "orig_nbformat": 4,
    "vscode": {
      "interpreter": {
        "hash": "275c13896ba8c4530b3b5edd72df101d8643eb4aa3956a7fd1b30cb9fb9264ee"
      }
    },
    "colab": {
      "provenance": []
    }
  },
  "nbformat": 4,
  "nbformat_minor": 0
}